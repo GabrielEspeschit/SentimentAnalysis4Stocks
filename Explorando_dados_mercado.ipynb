{
 "metadata": {
  "language_info": {
   "codemirror_mode": {
    "name": "ipython",
    "version": 3
   },
   "file_extension": ".py",
   "mimetype": "text/x-python",
   "name": "python",
   "nbconvert_exporter": "python",
   "pygments_lexer": "ipython3",
   "version": "3.8.2-final"
  },
  "orig_nbformat": 2,
  "kernelspec": {
   "name": "python38264bit08592e403cee4537bb5e90e452eed589",
   "display_name": "Python 3.8.2 64-bit"
  }
 },
 "nbformat": 4,
 "nbformat_minor": 2,
 "cells": [
  {
   "cell_type": "code",
   "execution_count": 1,
   "metadata": {},
   "outputs": [],
   "source": [
    "import numpy as np\n",
    "import pandas as pd\n",
    "import matplotlib.pyplot as plt\n",
    "import ast\n",
    "import re"
   ]
  },
  {
   "cell_type": "code",
   "execution_count": 2,
   "metadata": {},
   "outputs": [],
   "source": [
    "df = pd.read_csv('Dados/Noticias_ibov.csv', index_col=0)\n",
    "variacao = df.Variacao.dropna()"
   ]
  },
  {
   "cell_type": "code",
   "execution_count": 3,
   "metadata": {},
   "outputs": [
    {
     "output_type": "execute_result",
     "data": {
      "text/plain": "(1556, 1)"
     },
     "metadata": {},
     "execution_count": 3
    }
   ],
   "source": [
    "variacao = np.array(variacao.values.tolist())\n",
    "variacao = variacao.reshape(variacao.shape[0], 1)\n",
    "variacao.shape"
   ]
  },
  {
   "cell_type": "code",
   "execution_count": 4,
   "metadata": {},
   "outputs": [
    {
     "output_type": "execute_result",
     "data": {
      "text/plain": "0.04365785873971097"
     },
     "metadata": {},
     "execution_count": 4
    }
   ],
   "source": [
    "variacao_mean = np.mean(variacao)\n",
    "variacao_std = np.std(variacao)\n",
    "variacao_mean"
   ]
  },
  {
   "cell_type": "code",
   "execution_count": 5,
   "metadata": {},
   "outputs": [],
   "source": [
    "n_ruim = variacao_mean - 0.6*variacao_std\n",
    "n_bom = variacao_mean + 0.6*variacao_std"
   ]
  },
  {
   "cell_type": "code",
   "execution_count": 6,
   "metadata": {},
   "outputs": [
    {
     "output_type": "display_data",
     "data": {
      "text/plain": "<Figure size 432x288 with 1 Axes>",
      "image/svg+xml": "<?xml version=\"1.0\" encoding=\"utf-8\" standalone=\"no\"?>\n<!DOCTYPE svg PUBLIC \"-//W3C//DTD SVG 1.1//EN\"\n  \"http://www.w3.org/Graphics/SVG/1.1/DTD/svg11.dtd\">\n<!-- Created with matplotlib (https://matplotlib.org/) -->\n<svg height=\"248.518125pt\" version=\"1.1\" viewBox=\"0 0 378.015085 248.518125\" width=\"378.015085pt\" xmlns=\"http://www.w3.org/2000/svg\" xmlns:xlink=\"http://www.w3.org/1999/xlink\">\n <metadata>\n  <rdf:RDF xmlns:cc=\"http://creativecommons.org/ns#\" xmlns:dc=\"http://purl.org/dc/elements/1.1/\" xmlns:rdf=\"http://www.w3.org/1999/02/22-rdf-syntax-ns#\">\n   <cc:Work>\n    <dc:type rdf:resource=\"http://purl.org/dc/dcmitype/StillImage\"/>\n    <dc:date>2020-08-25T13:54:08.685677</dc:date>\n    <dc:format>image/svg+xml</dc:format>\n    <dc:creator>\n     <cc:Agent>\n      <dc:title>Matplotlib v3.3.0, https://matplotlib.org/</dc:title>\n     </cc:Agent>\n    </dc:creator>\n   </cc:Work>\n  </rdf:RDF>\n </metadata>\n <defs>\n  <style type=\"text/css\">*{stroke-linecap:butt;stroke-linejoin:round;}</style>\n </defs>\n <g id=\"figure_1\">\n  <g id=\"patch_1\">\n   <path d=\"M 0 248.518125 \nL 378.015085 248.518125 \nL 378.015085 0 \nL 0 0 \nz\n\" style=\"fill:none;\"/>\n  </g>\n  <g id=\"axes_1\">\n   <g id=\"patch_2\">\n    <path d=\"M 33.2875 224.64 \nL 368.0875 224.64 \nL 368.0875 7.2 \nL 33.2875 7.2 \nz\n\" style=\"fill:#ffffff;\"/>\n   </g>\n   <g id=\"patch_3\">\n    <path clip-path=\"url(#p150d6eea3e)\" d=\"M 48.505682 224.64 \nL 54.592955 224.64 \nL 54.592955 223.908248 \nL 48.505682 223.908248 \nz\n\" style=\"fill:#1f77b4;\"/>\n   </g>\n   <g id=\"patch_4\">\n    <path clip-path=\"url(#p150d6eea3e)\" d=\"M 54.592955 224.64 \nL 60.680227 224.64 \nL 60.680227 223.908248 \nL 54.592955 223.908248 \nz\n\" style=\"fill:#1f77b4;\"/>\n   </g>\n   <g id=\"patch_5\">\n    <path clip-path=\"url(#p150d6eea3e)\" d=\"M 60.680227 224.64 \nL 66.7675 224.64 \nL 66.7675 224.64 \nL 60.680227 224.64 \nz\n\" style=\"fill:#1f77b4;\"/>\n   </g>\n   <g id=\"patch_6\">\n    <path clip-path=\"url(#p150d6eea3e)\" d=\"M 66.7675 224.64 \nL 72.854773 224.64 \nL 72.854773 224.64 \nL 66.7675 224.64 \nz\n\" style=\"fill:#1f77b4;\"/>\n   </g>\n   <g id=\"patch_7\">\n    <path clip-path=\"url(#p150d6eea3e)\" d=\"M 72.854773 224.64 \nL 78.942045 224.64 \nL 78.942045 223.908248 \nL 72.854773 223.908248 \nz\n\" style=\"fill:#1f77b4;\"/>\n   </g>\n   <g id=\"patch_8\">\n    <path clip-path=\"url(#p150d6eea3e)\" d=\"M 78.942045 224.64 \nL 85.029318 224.64 \nL 85.029318 224.64 \nL 78.942045 224.64 \nz\n\" style=\"fill:#1f77b4;\"/>\n   </g>\n   <g id=\"patch_9\">\n    <path clip-path=\"url(#p150d6eea3e)\" d=\"M 85.029318 224.64 \nL 91.116591 224.64 \nL 91.116591 224.64 \nL 85.029318 224.64 \nz\n\" style=\"fill:#1f77b4;\"/>\n   </g>\n   <g id=\"patch_10\">\n    <path clip-path=\"url(#p150d6eea3e)\" d=\"M 91.116591 224.64 \nL 97.203864 224.64 \nL 97.203864 223.908248 \nL 91.116591 223.908248 \nz\n\" style=\"fill:#1f77b4;\"/>\n   </g>\n   <g id=\"patch_11\">\n    <path clip-path=\"url(#p150d6eea3e)\" d=\"M 97.203864 224.64 \nL 103.291136 224.64 \nL 103.291136 224.64 \nL 97.203864 224.64 \nz\n\" style=\"fill:#1f77b4;\"/>\n   </g>\n   <g id=\"patch_12\">\n    <path clip-path=\"url(#p150d6eea3e)\" d=\"M 103.291136 224.64 \nL 109.378409 224.64 \nL 109.378409 223.908248 \nL 103.291136 223.908248 \nz\n\" style=\"fill:#1f77b4;\"/>\n   </g>\n   <g id=\"patch_13\">\n    <path clip-path=\"url(#p150d6eea3e)\" d=\"M 109.378409 224.64 \nL 115.465682 224.64 \nL 115.465682 223.908248 \nL 109.378409 223.908248 \nz\n\" style=\"fill:#1f77b4;\"/>\n   </g>\n   <g id=\"patch_14\">\n    <path clip-path=\"url(#p150d6eea3e)\" d=\"M 115.465682 224.64 \nL 121.552955 224.64 \nL 121.552955 224.64 \nL 115.465682 224.64 \nz\n\" style=\"fill:#1f77b4;\"/>\n   </g>\n   <g id=\"patch_15\">\n    <path clip-path=\"url(#p150d6eea3e)\" d=\"M 121.552955 224.64 \nL 127.640227 224.64 \nL 127.640227 223.908248 \nL 121.552955 223.908248 \nz\n\" style=\"fill:#1f77b4;\"/>\n   </g>\n   <g id=\"patch_16\">\n    <path clip-path=\"url(#p150d6eea3e)\" d=\"M 127.640227 224.64 \nL 133.7275 224.64 \nL 133.7275 224.64 \nL 127.640227 224.64 \nz\n\" style=\"fill:#1f77b4;\"/>\n   </g>\n   <g id=\"patch_17\">\n    <path clip-path=\"url(#p150d6eea3e)\" d=\"M 133.7275 224.64 \nL 139.814773 224.64 \nL 139.814773 224.64 \nL 133.7275 224.64 \nz\n\" style=\"fill:#1f77b4;\"/>\n   </g>\n   <g id=\"patch_18\">\n    <path clip-path=\"url(#p150d6eea3e)\" d=\"M 139.814773 224.64 \nL 145.902045 224.64 \nL 145.902045 224.64 \nL 139.814773 224.64 \nz\n\" style=\"fill:#1f77b4;\"/>\n   </g>\n   <g id=\"patch_19\">\n    <path clip-path=\"url(#p150d6eea3e)\" d=\"M 145.902045 224.64 \nL 151.989318 224.64 \nL 151.989318 223.176497 \nL 145.902045 223.176497 \nz\n\" style=\"fill:#1f77b4;\"/>\n   </g>\n   <g id=\"patch_20\">\n    <path clip-path=\"url(#p150d6eea3e)\" d=\"M 151.989318 224.64 \nL 158.076591 224.64 \nL 158.076591 221.712993 \nL 151.989318 221.712993 \nz\n\" style=\"fill:#1f77b4;\"/>\n   </g>\n   <g id=\"patch_21\">\n    <path clip-path=\"url(#p150d6eea3e)\" d=\"M 158.076591 224.64 \nL 164.163864 224.64 \nL 164.163864 222.444745 \nL 158.076591 222.444745 \nz\n\" style=\"fill:#1f77b4;\"/>\n   </g>\n   <g id=\"patch_22\">\n    <path clip-path=\"url(#p150d6eea3e)\" d=\"M 164.163864 224.64 \nL 170.251136 224.64 \nL 170.251136 215.85898 \nL 164.163864 215.85898 \nz\n\" style=\"fill:#1f77b4;\"/>\n   </g>\n   <g id=\"patch_23\">\n    <path clip-path=\"url(#p150d6eea3e)\" d=\"M 170.251136 224.64 \nL 176.338409 224.64 \nL 176.338409 204.882706 \nL 170.251136 204.882706 \nz\n\" style=\"fill:#1f77b4;\"/>\n   </g>\n   <g id=\"patch_24\">\n    <path clip-path=\"url(#p150d6eea3e)\" d=\"M 176.338409 224.64 \nL 182.425682 224.64 \nL 182.425682 188.78417 \nL 176.338409 188.78417 \nz\n\" style=\"fill:#1f77b4;\"/>\n   </g>\n   <g id=\"patch_25\">\n    <path clip-path=\"url(#p150d6eea3e)\" d=\"M 182.425682 224.64 \nL 188.512955 224.64 \nL 188.512955 172.685634 \nL 182.425682 172.685634 \nz\n\" style=\"fill:#1f77b4;\"/>\n   </g>\n   <g id=\"patch_26\">\n    <path clip-path=\"url(#p150d6eea3e)\" d=\"M 188.512955 224.64 \nL 194.600227 224.64 \nL 194.600227 117.80426 \nL 188.512955 117.80426 \nz\n\" style=\"fill:#1f77b4;\"/>\n   </g>\n   <g id=\"patch_27\">\n    <path clip-path=\"url(#p150d6eea3e)\" d=\"M 194.600227 224.64 \nL 200.6875 224.64 \nL 200.6875 66.581646 \nL 194.600227 66.581646 \nz\n\" style=\"fill:#1f77b4;\"/>\n   </g>\n   <g id=\"patch_28\">\n    <path clip-path=\"url(#p150d6eea3e)\" d=\"M 200.6875 224.64 \nL 206.774773 224.64 \nL 206.774773 17.554286 \nL 200.6875 17.554286 \nz\n\" style=\"fill:#1f77b4;\"/>\n   </g>\n   <g id=\"patch_29\">\n    <path clip-path=\"url(#p150d6eea3e)\" d=\"M 206.774773 224.64 \nL 212.862045 224.64 \nL 212.862045 21.213044 \nL 206.774773 21.213044 \nz\n\" style=\"fill:#1f77b4;\"/>\n   </g>\n   <g id=\"patch_30\">\n    <path clip-path=\"url(#p150d6eea3e)\" d=\"M 212.862045 224.64 \nL 218.949318 224.64 \nL 218.949318 95.851711 \nL 212.862045 95.851711 \nz\n\" style=\"fill:#1f77b4;\"/>\n   </g>\n   <g id=\"patch_31\">\n    <path clip-path=\"url(#p150d6eea3e)\" d=\"M 218.949318 224.64 \nL 225.036591 224.64 \nL 225.036591 124.390025 \nL 218.949318 124.390025 \nz\n\" style=\"fill:#1f77b4;\"/>\n   </g>\n   <g id=\"patch_32\">\n    <path clip-path=\"url(#p150d6eea3e)\" d=\"M 225.036591 224.64 \nL 231.123864 224.64 \nL 231.123864 169.758627 \nL 225.036591 169.758627 \nz\n\" style=\"fill:#1f77b4;\"/>\n   </g>\n   <g id=\"patch_33\">\n    <path clip-path=\"url(#p150d6eea3e)\" d=\"M 231.123864 224.64 \nL 237.211136 224.64 \nL 237.211136 204.150954 \nL 231.123864 204.150954 \nz\n\" style=\"fill:#1f77b4;\"/>\n   </g>\n   <g id=\"patch_34\">\n    <path clip-path=\"url(#p150d6eea3e)\" d=\"M 237.211136 224.64 \nL 243.298409 224.64 \nL 243.298409 217.322484 \nL 237.211136 217.322484 \nz\n\" style=\"fill:#1f77b4;\"/>\n   </g>\n   <g id=\"patch_35\">\n    <path clip-path=\"url(#p150d6eea3e)\" d=\"M 243.298409 224.64 \nL 249.385682 224.64 \nL 249.385682 212.931974 \nL 243.298409 212.931974 \nz\n\" style=\"fill:#1f77b4;\"/>\n   </g>\n   <g id=\"patch_36\">\n    <path clip-path=\"url(#p150d6eea3e)\" d=\"M 249.385682 224.64 \nL 255.472955 224.64 \nL 255.472955 220.981242 \nL 249.385682 220.981242 \nz\n\" style=\"fill:#1f77b4;\"/>\n   </g>\n   <g id=\"patch_37\">\n    <path clip-path=\"url(#p150d6eea3e)\" d=\"M 255.472955 224.64 \nL 261.560227 224.64 \nL 261.560227 220.981242 \nL 255.472955 220.981242 \nz\n\" style=\"fill:#1f77b4;\"/>\n   </g>\n   <g id=\"patch_38\">\n    <path clip-path=\"url(#p150d6eea3e)\" d=\"M 261.560227 224.64 \nL 267.6475 224.64 \nL 267.6475 224.64 \nL 261.560227 224.64 \nz\n\" style=\"fill:#1f77b4;\"/>\n   </g>\n   <g id=\"patch_39\">\n    <path clip-path=\"url(#p150d6eea3e)\" d=\"M 267.6475 224.64 \nL 273.734773 224.64 \nL 273.734773 224.64 \nL 267.6475 224.64 \nz\n\" style=\"fill:#1f77b4;\"/>\n   </g>\n   <g id=\"patch_40\">\n    <path clip-path=\"url(#p150d6eea3e)\" d=\"M 273.734773 224.64 \nL 279.822045 224.64 \nL 279.822045 223.176497 \nL 273.734773 223.176497 \nz\n\" style=\"fill:#1f77b4;\"/>\n   </g>\n   <g id=\"patch_41\">\n    <path clip-path=\"url(#p150d6eea3e)\" d=\"M 279.822045 224.64 \nL 285.909318 224.64 \nL 285.909318 223.176497 \nL 279.822045 223.176497 \nz\n\" style=\"fill:#1f77b4;\"/>\n   </g>\n   <g id=\"patch_42\">\n    <path clip-path=\"url(#p150d6eea3e)\" d=\"M 285.909318 224.64 \nL 291.996591 224.64 \nL 291.996591 224.64 \nL 285.909318 224.64 \nz\n\" style=\"fill:#1f77b4;\"/>\n   </g>\n   <g id=\"patch_43\">\n    <path clip-path=\"url(#p150d6eea3e)\" d=\"M 291.996591 224.64 \nL 298.083864 224.64 \nL 298.083864 224.64 \nL 291.996591 224.64 \nz\n\" style=\"fill:#1f77b4;\"/>\n   </g>\n   <g id=\"patch_44\">\n    <path clip-path=\"url(#p150d6eea3e)\" d=\"M 298.083864 224.64 \nL 304.171136 224.64 \nL 304.171136 224.64 \nL 298.083864 224.64 \nz\n\" style=\"fill:#1f77b4;\"/>\n   </g>\n   <g id=\"patch_45\">\n    <path clip-path=\"url(#p150d6eea3e)\" d=\"M 304.171136 224.64 \nL 310.258409 224.64 \nL 310.258409 223.908248 \nL 304.171136 223.908248 \nz\n\" style=\"fill:#1f77b4;\"/>\n   </g>\n   <g id=\"patch_46\">\n    <path clip-path=\"url(#p150d6eea3e)\" d=\"M 310.258409 224.64 \nL 316.345682 224.64 \nL 316.345682 224.64 \nL 310.258409 224.64 \nz\n\" style=\"fill:#1f77b4;\"/>\n   </g>\n   <g id=\"patch_47\">\n    <path clip-path=\"url(#p150d6eea3e)\" d=\"M 316.345682 224.64 \nL 322.432955 224.64 \nL 322.432955 224.64 \nL 316.345682 224.64 \nz\n\" style=\"fill:#1f77b4;\"/>\n   </g>\n   <g id=\"patch_48\">\n    <path clip-path=\"url(#p150d6eea3e)\" d=\"M 322.432955 224.64 \nL 328.520227 224.64 \nL 328.520227 224.64 \nL 322.432955 224.64 \nz\n\" style=\"fill:#1f77b4;\"/>\n   </g>\n   <g id=\"patch_49\">\n    <path clip-path=\"url(#p150d6eea3e)\" d=\"M 328.520227 224.64 \nL 334.6075 224.64 \nL 334.6075 224.64 \nL 328.520227 224.64 \nz\n\" style=\"fill:#1f77b4;\"/>\n   </g>\n   <g id=\"patch_50\">\n    <path clip-path=\"url(#p150d6eea3e)\" d=\"M 334.6075 224.64 \nL 340.694773 224.64 \nL 340.694773 224.64 \nL 334.6075 224.64 \nz\n\" style=\"fill:#1f77b4;\"/>\n   </g>\n   <g id=\"patch_51\">\n    <path clip-path=\"url(#p150d6eea3e)\" d=\"M 340.694773 224.64 \nL 346.782045 224.64 \nL 346.782045 224.64 \nL 340.694773 224.64 \nz\n\" style=\"fill:#1f77b4;\"/>\n   </g>\n   <g id=\"patch_52\">\n    <path clip-path=\"url(#p150d6eea3e)\" d=\"M 346.782045 224.64 \nL 352.869318 224.64 \nL 352.869318 223.908248 \nL 346.782045 223.908248 \nz\n\" style=\"fill:#1f77b4;\"/>\n   </g>\n   <g id=\"matplotlib.axis_1\">\n    <g id=\"xtick_1\">\n     <g id=\"line2d_1\">\n      <defs>\n       <path d=\"M 0 0 \nL 0 3.5 \n\" id=\"m9afac4fe51\" style=\"stroke:#000000;stroke-width:0.8;\"/>\n      </defs>\n      <g>\n       <use style=\"stroke:#000000;stroke-width:0.8;\" x=\"46.168186\" xlink:href=\"#m9afac4fe51\" y=\"224.64\"/>\n      </g>\n     </g>\n     <g id=\"text_1\">\n      <!-- −15 -->\n      <g transform=\"translate(35.615842 239.238437)scale(0.1 -0.1)\">\n       <defs>\n        <path d=\"M 10.59375 35.5 \nL 73.1875 35.5 \nL 73.1875 27.203125 \nL 10.59375 27.203125 \nz\n\" id=\"DejaVuSans-8722\"/>\n        <path d=\"M 12.40625 8.296875 \nL 28.515625 8.296875 \nL 28.515625 63.921875 \nL 10.984375 60.40625 \nL 10.984375 69.390625 \nL 28.421875 72.90625 \nL 38.28125 72.90625 \nL 38.28125 8.296875 \nL 54.390625 8.296875 \nL 54.390625 0 \nL 12.40625 0 \nz\n\" id=\"DejaVuSans-49\"/>\n        <path d=\"M 10.796875 72.90625 \nL 49.515625 72.90625 \nL 49.515625 64.59375 \nL 19.828125 64.59375 \nL 19.828125 46.734375 \nQ 21.96875 47.46875 24.109375 47.828125 \nQ 26.265625 48.1875 28.421875 48.1875 \nQ 40.625 48.1875 47.75 41.5 \nQ 54.890625 34.8125 54.890625 23.390625 \nQ 54.890625 11.625 47.5625 5.09375 \nQ 40.234375 -1.421875 26.90625 -1.421875 \nQ 22.3125 -1.421875 17.546875 -0.640625 \nQ 12.796875 0.140625 7.71875 1.703125 \nL 7.71875 11.625 \nQ 12.109375 9.234375 16.796875 8.0625 \nQ 21.484375 6.890625 26.703125 6.890625 \nQ 35.15625 6.890625 40.078125 11.328125 \nQ 45.015625 15.765625 45.015625 23.390625 \nQ 45.015625 31 40.078125 35.4375 \nQ 35.15625 39.890625 26.703125 39.890625 \nQ 22.75 39.890625 18.8125 39.015625 \nQ 14.890625 38.140625 10.796875 36.28125 \nz\n\" id=\"DejaVuSans-53\"/>\n       </defs>\n       <use xlink:href=\"#DejaVuSans-8722\"/>\n       <use x=\"83.789062\" xlink:href=\"#DejaVuSans-49\"/>\n       <use x=\"147.412109\" xlink:href=\"#DejaVuSans-53\"/>\n      </g>\n     </g>\n    </g>\n    <g id=\"xtick_2\">\n     <g id=\"line2d_2\">\n      <g>\n       <use style=\"stroke:#000000;stroke-width:0.8;\" x=\"99.215585\" xlink:href=\"#m9afac4fe51\" y=\"224.64\"/>\n      </g>\n     </g>\n     <g id=\"text_2\">\n      <!-- −10 -->\n      <g transform=\"translate(88.663242 239.238437)scale(0.1 -0.1)\">\n       <defs>\n        <path d=\"M 31.78125 66.40625 \nQ 24.171875 66.40625 20.328125 58.90625 \nQ 16.5 51.421875 16.5 36.375 \nQ 16.5 21.390625 20.328125 13.890625 \nQ 24.171875 6.390625 31.78125 6.390625 \nQ 39.453125 6.390625 43.28125 13.890625 \nQ 47.125 21.390625 47.125 36.375 \nQ 47.125 51.421875 43.28125 58.90625 \nQ 39.453125 66.40625 31.78125 66.40625 \nz\nM 31.78125 74.21875 \nQ 44.046875 74.21875 50.515625 64.515625 \nQ 56.984375 54.828125 56.984375 36.375 \nQ 56.984375 17.96875 50.515625 8.265625 \nQ 44.046875 -1.421875 31.78125 -1.421875 \nQ 19.53125 -1.421875 13.0625 8.265625 \nQ 6.59375 17.96875 6.59375 36.375 \nQ 6.59375 54.828125 13.0625 64.515625 \nQ 19.53125 74.21875 31.78125 74.21875 \nz\n\" id=\"DejaVuSans-48\"/>\n       </defs>\n       <use xlink:href=\"#DejaVuSans-8722\"/>\n       <use x=\"83.789062\" xlink:href=\"#DejaVuSans-49\"/>\n       <use x=\"147.412109\" xlink:href=\"#DejaVuSans-48\"/>\n      </g>\n     </g>\n    </g>\n    <g id=\"xtick_3\">\n     <g id=\"line2d_3\">\n      <g>\n       <use style=\"stroke:#000000;stroke-width:0.8;\" x=\"152.262985\" xlink:href=\"#m9afac4fe51\" y=\"224.64\"/>\n      </g>\n     </g>\n     <g id=\"text_3\">\n      <!-- −5 -->\n      <g transform=\"translate(144.891892 239.238437)scale(0.1 -0.1)\">\n       <use xlink:href=\"#DejaVuSans-8722\"/>\n       <use x=\"83.789062\" xlink:href=\"#DejaVuSans-53\"/>\n      </g>\n     </g>\n    </g>\n    <g id=\"xtick_4\">\n     <g id=\"line2d_4\">\n      <g>\n       <use style=\"stroke:#000000;stroke-width:0.8;\" x=\"205.310385\" xlink:href=\"#m9afac4fe51\" y=\"224.64\"/>\n      </g>\n     </g>\n     <g id=\"text_4\">\n      <!-- 0 -->\n      <g transform=\"translate(202.129135 239.238437)scale(0.1 -0.1)\">\n       <use xlink:href=\"#DejaVuSans-48\"/>\n      </g>\n     </g>\n    </g>\n    <g id=\"xtick_5\">\n     <g id=\"line2d_5\">\n      <g>\n       <use style=\"stroke:#000000;stroke-width:0.8;\" x=\"258.357785\" xlink:href=\"#m9afac4fe51\" y=\"224.64\"/>\n      </g>\n     </g>\n     <g id=\"text_5\">\n      <!-- 5 -->\n      <g transform=\"translate(255.176535 239.238437)scale(0.1 -0.1)\">\n       <use xlink:href=\"#DejaVuSans-53\"/>\n      </g>\n     </g>\n    </g>\n    <g id=\"xtick_6\">\n     <g id=\"line2d_6\">\n      <g>\n       <use style=\"stroke:#000000;stroke-width:0.8;\" x=\"311.405185\" xlink:href=\"#m9afac4fe51\" y=\"224.64\"/>\n      </g>\n     </g>\n     <g id=\"text_6\">\n      <!-- 10 -->\n      <g transform=\"translate(305.042685 239.238437)scale(0.1 -0.1)\">\n       <use xlink:href=\"#DejaVuSans-49\"/>\n       <use x=\"63.623047\" xlink:href=\"#DejaVuSans-48\"/>\n      </g>\n     </g>\n    </g>\n    <g id=\"xtick_7\">\n     <g id=\"line2d_7\">\n      <g>\n       <use style=\"stroke:#000000;stroke-width:0.8;\" x=\"364.452585\" xlink:href=\"#m9afac4fe51\" y=\"224.64\"/>\n      </g>\n     </g>\n     <g id=\"text_7\">\n      <!-- 15 -->\n      <g transform=\"translate(358.090085 239.238437)scale(0.1 -0.1)\">\n       <use xlink:href=\"#DejaVuSans-49\"/>\n       <use x=\"63.623047\" xlink:href=\"#DejaVuSans-53\"/>\n      </g>\n     </g>\n    </g>\n   </g>\n   <g id=\"matplotlib.axis_2\">\n    <g id=\"ytick_1\">\n     <g id=\"line2d_8\">\n      <defs>\n       <path d=\"M 0 0 \nL -3.5 0 \n\" id=\"m1657325f28\" style=\"stroke:#000000;stroke-width:0.8;\"/>\n      </defs>\n      <g>\n       <use style=\"stroke:#000000;stroke-width:0.8;\" x=\"33.2875\" xlink:href=\"#m1657325f28\" y=\"224.64\"/>\n      </g>\n     </g>\n     <g id=\"text_8\">\n      <!-- 0 -->\n      <g transform=\"translate(19.925 228.439219)scale(0.1 -0.1)\">\n       <use xlink:href=\"#DejaVuSans-48\"/>\n      </g>\n     </g>\n    </g>\n    <g id=\"ytick_2\">\n     <g id=\"line2d_9\">\n      <g>\n       <use style=\"stroke:#000000;stroke-width:0.8;\" x=\"33.2875\" xlink:href=\"#m1657325f28\" y=\"188.052418\"/>\n      </g>\n     </g>\n     <g id=\"text_9\">\n      <!-- 50 -->\n      <g transform=\"translate(13.5625 191.851637)scale(0.1 -0.1)\">\n       <use xlink:href=\"#DejaVuSans-53\"/>\n       <use x=\"63.623047\" xlink:href=\"#DejaVuSans-48\"/>\n      </g>\n     </g>\n    </g>\n    <g id=\"ytick_3\">\n     <g id=\"line2d_10\">\n      <g>\n       <use style=\"stroke:#000000;stroke-width:0.8;\" x=\"33.2875\" xlink:href=\"#m1657325f28\" y=\"151.464836\"/>\n      </g>\n     </g>\n     <g id=\"text_10\">\n      <!-- 100 -->\n      <g transform=\"translate(7.2 155.264055)scale(0.1 -0.1)\">\n       <use xlink:href=\"#DejaVuSans-49\"/>\n       <use x=\"63.623047\" xlink:href=\"#DejaVuSans-48\"/>\n       <use x=\"127.246094\" xlink:href=\"#DejaVuSans-48\"/>\n      </g>\n     </g>\n    </g>\n    <g id=\"ytick_4\">\n     <g id=\"line2d_11\">\n      <g>\n       <use style=\"stroke:#000000;stroke-width:0.8;\" x=\"33.2875\" xlink:href=\"#m1657325f28\" y=\"114.877254\"/>\n      </g>\n     </g>\n     <g id=\"text_11\">\n      <!-- 150 -->\n      <g transform=\"translate(7.2 118.676473)scale(0.1 -0.1)\">\n       <use xlink:href=\"#DejaVuSans-49\"/>\n       <use x=\"63.623047\" xlink:href=\"#DejaVuSans-53\"/>\n       <use x=\"127.246094\" xlink:href=\"#DejaVuSans-48\"/>\n      </g>\n     </g>\n    </g>\n    <g id=\"ytick_5\">\n     <g id=\"line2d_12\">\n      <g>\n       <use style=\"stroke:#000000;stroke-width:0.8;\" x=\"33.2875\" xlink:href=\"#m1657325f28\" y=\"78.289672\"/>\n      </g>\n     </g>\n     <g id=\"text_12\">\n      <!-- 200 -->\n      <g transform=\"translate(7.2 82.088891)scale(0.1 -0.1)\">\n       <defs>\n        <path d=\"M 19.1875 8.296875 \nL 53.609375 8.296875 \nL 53.609375 0 \nL 7.328125 0 \nL 7.328125 8.296875 \nQ 12.9375 14.109375 22.625 23.890625 \nQ 32.328125 33.6875 34.8125 36.53125 \nQ 39.546875 41.84375 41.421875 45.53125 \nQ 43.3125 49.21875 43.3125 52.78125 \nQ 43.3125 58.59375 39.234375 62.25 \nQ 35.15625 65.921875 28.609375 65.921875 \nQ 23.96875 65.921875 18.8125 64.3125 \nQ 13.671875 62.703125 7.8125 59.421875 \nL 7.8125 69.390625 \nQ 13.765625 71.78125 18.9375 73 \nQ 24.125 74.21875 28.421875 74.21875 \nQ 39.75 74.21875 46.484375 68.546875 \nQ 53.21875 62.890625 53.21875 53.421875 \nQ 53.21875 48.921875 51.53125 44.890625 \nQ 49.859375 40.875 45.40625 35.40625 \nQ 44.1875 33.984375 37.640625 27.21875 \nQ 31.109375 20.453125 19.1875 8.296875 \nz\n\" id=\"DejaVuSans-50\"/>\n       </defs>\n       <use xlink:href=\"#DejaVuSans-50\"/>\n       <use x=\"63.623047\" xlink:href=\"#DejaVuSans-48\"/>\n       <use x=\"127.246094\" xlink:href=\"#DejaVuSans-48\"/>\n      </g>\n     </g>\n    </g>\n    <g id=\"ytick_6\">\n     <g id=\"line2d_13\">\n      <g>\n       <use style=\"stroke:#000000;stroke-width:0.8;\" x=\"33.2875\" xlink:href=\"#m1657325f28\" y=\"41.70209\"/>\n      </g>\n     </g>\n     <g id=\"text_13\">\n      <!-- 250 -->\n      <g transform=\"translate(7.2 45.501309)scale(0.1 -0.1)\">\n       <use xlink:href=\"#DejaVuSans-50\"/>\n       <use x=\"63.623047\" xlink:href=\"#DejaVuSans-53\"/>\n       <use x=\"127.246094\" xlink:href=\"#DejaVuSans-48\"/>\n      </g>\n     </g>\n    </g>\n   </g>\n   <g id=\"line2d_14\">\n    <path clip-path=\"url(#p150d6eea3e)\" d=\"M 194.910895 224.64 \nL 194.910895 7.2 \n\" style=\"fill:none;stroke:#ff0000;stroke-linecap:square;stroke-width:1.5;\"/>\n   </g>\n   <g id=\"line2d_15\">\n    <path clip-path=\"url(#p150d6eea3e)\" d=\"M 216.63625 224.64 \nL 216.63625 7.2 \n\" style=\"fill:none;stroke:#ff0000;stroke-linecap:square;stroke-width:1.5;\"/>\n   </g>\n   <g id=\"line2d_16\">\n    <path clip-path=\"url(#p150d6eea3e)\" d=\"M 205.773572 224.64 \nL 205.773572 7.2 \n\" style=\"fill:none;stroke:#008000;stroke-linecap:square;stroke-width:1.5;\"/>\n   </g>\n   <g id=\"patch_53\">\n    <path d=\"M 33.2875 224.64 \nL 33.2875 7.2 \n\" style=\"fill:none;stroke:#000000;stroke-linecap:square;stroke-linejoin:miter;stroke-width:0.8;\"/>\n   </g>\n   <g id=\"patch_54\">\n    <path d=\"M 368.0875 224.64 \nL 368.0875 7.2 \n\" style=\"fill:none;stroke:#000000;stroke-linecap:square;stroke-linejoin:miter;stroke-width:0.8;\"/>\n   </g>\n   <g id=\"patch_55\">\n    <path d=\"M 33.2875 224.64 \nL 368.0875 224.64 \n\" style=\"fill:none;stroke:#000000;stroke-linecap:square;stroke-linejoin:miter;stroke-width:0.8;\"/>\n   </g>\n   <g id=\"patch_56\">\n    <path d=\"M 33.2875 7.2 \nL 368.0875 7.2 \n\" style=\"fill:none;stroke:#000000;stroke-linecap:square;stroke-linejoin:miter;stroke-width:0.8;\"/>\n   </g>\n  </g>\n </g>\n <defs>\n  <clipPath id=\"p150d6eea3e\">\n   <rect height=\"217.44\" width=\"334.8\" x=\"33.2875\" y=\"7.2\"/>\n  </clipPath>\n </defs>\n</svg>\n",
      "image/png": "[encoded data removed]"
     },
     "metadata": {
      "needs_background": "light"
     }
    }
   ],
   "source": [
    "plt.hist(variacao, 50, histtype='bar', align='mid')\n",
    "plt.axvline(x = n_ruim, color='r')\n",
    "plt.axvline(x = n_bom, color='r')\n",
    "plt.axvline(x = variacao_mean, color = 'g')\n",
    "plt.show()"
   ]
  },
  {
   "cell_type": "code",
   "execution_count": 7,
   "metadata": {},
   "outputs": [],
   "source": [
    "def classificar(x):\n",
    "    if n_ruim >= x:\n",
    "        return 0\n",
    "    elif n_ruim < x < n_bom:\n",
    "        return 1\n",
    "    elif x >= n_bom:\n",
    "        return 2\n",
    "    else:\n",
    "        return np.nan"
   ]
  },
  {
   "cell_type": "code",
   "execution_count": 8,
   "metadata": {
    "tags": []
   },
   "outputs": [],
   "source": [
    "df['classificacao'] = df.Variacao.apply(classificar)"
   ]
  },
  {
   "cell_type": "code",
   "execution_count": 9,
   "metadata": {},
   "outputs": [
    {
     "output_type": "execute_result",
     "data": {
      "text/plain": "1.0    879\n2.0    345\n0.0    332\nName: classificacao, dtype: int64"
     },
     "metadata": {},
     "execution_count": 9
    }
   ],
   "source": [
    "df.classificacao.value_counts()"
   ]
  },
  {
   "cell_type": "code",
   "execution_count": 12,
   "metadata": {},
   "outputs": [],
   "source": [
    "from nltk.corpus import stopwords\n",
    "from nltk.tokenize import sent_tokenize, word_tokenize\n",
    "stopwords_port = set(stopwords.words('portuguese'))\n",
    "\n",
    "def retorna_lista (phrases):\n",
    "    all_words_phrases = []\n",
    "    all_words_phrases.append(ast.literal_eval(phrases))\n",
    "    all_words_phrases = [item.lower() for sublist in all_words_phrases for item in sublist]\n",
    "    all_words_phrases = [re.sub(r'\\d+', '', phrase) for phrase in all_words_phrases]\n",
    "    all_words_phrases = [re.sub(r'[^\\w]', ' ', phrase) for phrase in all_words_phrases]\n",
    "    all_words_phrases = [' '.join(phrase.split()) for phrase in all_words_phrases]\n",
    "    # all_phrases_filtered = [word_tokenize(phrase) for phrase in all_words_phrases]\n",
    "    # all_phrases_filtered = [w for phrase in all_phrases_filtered for w in phrase if not w in stopwords_port]\n",
    "    return all_words_phrases"
   ]
  },
  {
   "cell_type": "code",
   "execution_count": 13,
   "metadata": {
    "tags": []
   },
   "outputs": [],
   "source": [
    "dados_modelo_temp = pd.DataFrame()\n",
    "dados_modelo_temp['frases_globo'] = df.frases_globo.apply(lambda phrases: retorna_lista(phrases) if pd.notnull(phrases) else [])\n",
    "dados_modelo_temp['frases_folha'] = df.frases_folha.apply(lambda phrases: retorna_lista(phrases) if pd.notnull(phrases) else [])\n",
    "dados_modelo_temp['classificacao'] = df['classificacao']"
   ]
  },
  {
   "cell_type": "code",
   "execution_count": 14,
   "metadata": {},
   "outputs": [],
   "source": [
    "dados_modelo = pd.DataFrame()\n",
    "dados_modelo = dados_modelo_temp.explode('frases_globo')\n",
    "dados_modelo_temp = dados_modelo_temp.drop(['frases_globo'], axis = 1)\n",
    "dados_modelo = dados_modelo.drop(['frases_folha'], axis=1)\n",
    "dados_modelo = dados_modelo.dropna(subset=['frases_globo'])\n",
    "dados_modelo = dados_modelo.bfill()"
   ]
  },
  {
   "cell_type": "code",
   "execution_count": 15,
   "metadata": {},
   "outputs": [],
   "source": [
    "dados_modelo_temp = dados_modelo_temp.explode('frases_folha')\n",
    "dados_modelo_temp = dados_modelo_temp.dropna(subset=['frases_folha'])\n",
    "dados_modelo_temp = dados_modelo_temp.bfill()"
   ]
  },
  {
   "cell_type": "code",
   "execution_count": 16,
   "metadata": {},
   "outputs": [
    {
     "output_type": "execute_result",
     "data": {
      "text/plain": "                                                        frase  classificador\nData                                                                        \n2014-01-01  belfort concorre a prêmio de melhor lutador do...            2.0\n2014-01-01  nadal precisa de mais de duas horas para vence...            2.0\n2014-01-01  retrospectiva país festeja títulos mundiais no...            2.0\n2014-01-02  central do mercado inter contrata dois zagueir...            2.0\n2014-01-02  recuperado de lesão messi se reapresenta e tre...            2.0\n...                                                       ...            ...\n2017-09-29  não conheci hugh hefner mas o incomodei por um...            1.0\n2017-09-29                                     ter ou não ter            1.0\n2017-09-29  tem muita delação mentirosa diz haddad ao ser ...            1.0\n2017-09-29  luz da oca não faz justiça ao trabalho do filó...            1.0\n2017-09-29  mortes goleiro e motorista de ambulância no su...            1.0\n\n[178842 rows x 2 columns]",
      "text/html": "<div>\n<style scoped>\n    .dataframe tbody tr th:only-of-type {\n        vertical-align: middle;\n    }\n\n    .dataframe tbody tr th {\n        vertical-align: top;\n    }\n\n    .dataframe thead th {\n        text-align: right;\n    }\n</style>\n<table border=\"1\" class=\"dataframe\">\n  <thead>\n    <tr style=\"text-align: right;\">\n      <th></th>\n      <th>frase</th>\n      <th>classificador</th>\n    </tr>\n    <tr>\n      <th>Data</th>\n      <th></th>\n      <th></th>\n    </tr>\n  </thead>\n  <tbody>\n    <tr>\n      <th>2014-01-01</th>\n      <td>belfort concorre a prêmio de melhor lutador do...</td>\n      <td>2.0</td>\n    </tr>\n    <tr>\n      <th>2014-01-01</th>\n      <td>nadal precisa de mais de duas horas para vence...</td>\n      <td>2.0</td>\n    </tr>\n    <tr>\n      <th>2014-01-01</th>\n      <td>retrospectiva país festeja títulos mundiais no...</td>\n      <td>2.0</td>\n    </tr>\n    <tr>\n      <th>2014-01-02</th>\n      <td>central do mercado inter contrata dois zagueir...</td>\n      <td>2.0</td>\n    </tr>\n    <tr>\n      <th>2014-01-02</th>\n      <td>recuperado de lesão messi se reapresenta e tre...</td>\n      <td>2.0</td>\n    </tr>\n    <tr>\n      <th>...</th>\n      <td>...</td>\n      <td>...</td>\n    </tr>\n    <tr>\n      <th>2017-09-29</th>\n      <td>não conheci hugh hefner mas o incomodei por um...</td>\n      <td>1.0</td>\n    </tr>\n    <tr>\n      <th>2017-09-29</th>\n      <td>ter ou não ter</td>\n      <td>1.0</td>\n    </tr>\n    <tr>\n      <th>2017-09-29</th>\n      <td>tem muita delação mentirosa diz haddad ao ser ...</td>\n      <td>1.0</td>\n    </tr>\n    <tr>\n      <th>2017-09-29</th>\n      <td>luz da oca não faz justiça ao trabalho do filó...</td>\n      <td>1.0</td>\n    </tr>\n    <tr>\n      <th>2017-09-29</th>\n      <td>mortes goleiro e motorista de ambulância no su...</td>\n      <td>1.0</td>\n    </tr>\n  </tbody>\n</table>\n<p>178842 rows × 2 columns</p>\n</div>"
     },
     "metadata": {},
     "execution_count": 16
    }
   ],
   "source": [
    "dados_modelo_temp.columns = ['frase', 'classificador']\n",
    "dados_modelo.columns = ['frase', 'classificador']\n",
    "dados_modelo = pd.concat([dados_modelo, dados_modelo_temp])\n",
    "dados_modelo = dados_modelo.dropna()\n",
    "dados_modelo"
   ]
  },
  {
   "cell_type": "code",
   "execution_count": 18,
   "metadata": {},
   "outputs": [],
   "source": [
    "from gensim.models import Word2Vec as w2v\n",
    "model = w2v.load('word2vec_100_no_num.model')"
   ]
  },
  {
   "cell_type": "code",
   "execution_count": 19,
   "metadata": {},
   "outputs": [],
   "source": [
    "def vec_2_word(word, model=model):\n",
    "    try:\n",
    "        return model[word]\n",
    "    except KeyError:\n",
    "        print(f'a palavra {word} não está no vocabulário')\n",
    "        return 0"
   ]
  },
  {
   "cell_type": "code",
   "execution_count": 20,
   "metadata": {},
   "outputs": [],
   "source": [
    "def retorna_vetor(phrase):\n",
    "    vector = [vec_2_word(word) for word in phrase.split()]\n",
    "    return vector"
   ]
  },
  {
   "cell_type": "code",
   "execution_count": 21,
   "metadata": {
    "tags": []
   },
   "outputs": [
    {
     "output_type": "stream",
     "name": "stdout",
     "text": "a palavra gonna não está no vocabulário\na palavra gimme não está no vocabulário\na palavra cannot não está no vocabulário\na palavra wanna não está no vocabulário\na palavra gimme não está no vocabulário\n"
    },
    {
     "output_type": "execute_result",
     "data": {
      "text/plain": "                                                        frase  classificador  \\\nData                                                                           \n2014-01-01  belfort concorre a prêmio de melhor lutador do...            2.0   \n2014-01-01  nadal precisa de mais de duas horas para vence...            2.0   \n2014-01-01  retrospectiva país festeja títulos mundiais no...            2.0   \n2014-01-02  central do mercado inter contrata dois zagueir...            2.0   \n2014-01-02  recuperado de lesão messi se reapresenta e tre...            2.0   \n\n                                                        vetor  \nData                                                           \n2014-01-01  [[-0.4565319, 0.2579745, 0.047380272, -0.07483...  \n2014-01-01  [[-0.6065293, 0.3265774, 0.3728341, -0.0034271...  \n2014-01-01  [[-0.22920139, 0.31408638, 0.33220178, -0.1530...  \n2014-01-02  [[0.098625965, 0.11010713, 0.45690027, -0.5258...  \n2014-01-02  [[-0.30037597, 0.13249484, 0.029900417, -0.085...  ",
      "text/html": "<div>\n<style scoped>\n    .dataframe tbody tr th:only-of-type {\n        vertical-align: middle;\n    }\n\n    .dataframe tbody tr th {\n        vertical-align: top;\n    }\n\n    .dataframe thead th {\n        text-align: right;\n    }\n</style>\n<table border=\"1\" class=\"dataframe\">\n  <thead>\n    <tr style=\"text-align: right;\">\n      <th></th>\n      <th>frase</th>\n      <th>classificador</th>\n      <th>vetor</th>\n    </tr>\n    <tr>\n      <th>Data</th>\n      <th></th>\n      <th></th>\n      <th></th>\n    </tr>\n  </thead>\n  <tbody>\n    <tr>\n      <th>2014-01-01</th>\n      <td>belfort concorre a prêmio de melhor lutador do...</td>\n      <td>2.0</td>\n      <td>[[-0.4565319, 0.2579745, 0.047380272, -0.07483...</td>\n    </tr>\n    <tr>\n      <th>2014-01-01</th>\n      <td>nadal precisa de mais de duas horas para vence...</td>\n      <td>2.0</td>\n      <td>[[-0.6065293, 0.3265774, 0.3728341, -0.0034271...</td>\n    </tr>\n    <tr>\n      <th>2014-01-01</th>\n      <td>retrospectiva país festeja títulos mundiais no...</td>\n      <td>2.0</td>\n      <td>[[-0.22920139, 0.31408638, 0.33220178, -0.1530...</td>\n    </tr>\n    <tr>\n      <th>2014-01-02</th>\n      <td>central do mercado inter contrata dois zagueir...</td>\n      <td>2.0</td>\n      <td>[[0.098625965, 0.11010713, 0.45690027, -0.5258...</td>\n    </tr>\n    <tr>\n      <th>2014-01-02</th>\n      <td>recuperado de lesão messi se reapresenta e tre...</td>\n      <td>2.0</td>\n      <td>[[-0.30037597, 0.13249484, 0.029900417, -0.085...</td>\n    </tr>\n  </tbody>\n</table>\n</div>"
     },
     "metadata": {},
     "execution_count": 21
    }
   ],
   "source": [
    "dados_modelo['vetor'] = dados_modelo.frase.apply(lambda phrases: np.array(retorna_vetor(phrases)))\n",
    "dados_modelo.head()"
   ]
  },
  {
   "cell_type": "code",
   "execution_count": 22,
   "metadata": {},
   "outputs": [],
   "source": [
    "dados_modelo['media'] = dados_modelo.vetor.apply(np.mean, axis=0)\n",
    "dados_modelo['media'] = dados_modelo.media.apply(np.atleast_2d)"
   ]
  },
  {
   "cell_type": "code",
   "execution_count": 24,
   "metadata": {
    "tags": []
   },
   "outputs": [],
   "source": [
    "dados_modelo.to_pickle('Dados/Dados_modelo_3_classes.plk')"
   ]
  },
  {
   "cell_type": "code",
   "execution_count": null,
   "metadata": {},
   "outputs": [],
   "source": []
  }
 ]
}