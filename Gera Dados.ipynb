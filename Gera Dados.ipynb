{
 "cells": [
  {
   "cell_type": "code",
   "execution_count": null,
   "metadata": {},
   "outputs": [],
   "source": [
    "import pandas as pd\n",
    "import re\n",
    "import sys\n",
    "from leia import SentimentIntensityAnalyzer "
   ]
  },
  {
   "cell_type": "code",
   "execution_count": null,
   "metadata": {},
   "outputs": [],
   "source": [
    "def prepara_dados(download = False, cat = ['mercado']):\n",
    "    \n",
    "    if download:\n",
    "        #importando os dados de https://www.kaggle.com/marlesson/news-of-the-site-folhauol\n",
    "        noticias = pd.read_csv(r'Dados/articles.csv', index_col = 2)\n",
    "\n",
    "        #renomeando as colunas\n",
    "        noticias.index.name = 'data'\n",
    "        noticias.columns = ['titulo', 'texto', 'categoria', 'subcategoria', 'link']\n",
    "\n",
    "        #pegado os dados do Ibovespa para o perido em que temod notícias\n",
    "        data_inicio = noticias.index.min()\n",
    "        data_fim = noticias.index.max()\n",
    "\n",
    "        dados_ibov = data.DataReader('^BVSP', 'yahoo', data_inicio, data_fim)\n",
    "        dados_ibov.index.name = 'data'\n",
    "        dados_ibov = dados_ibov.dropna()\n",
    "         \n",
    "        #unindo os dois DFs em um único \n",
    "        dados = noticias.merge(dados_ibov, left_index = True, right_index = True)\n",
    "        dados.to_csv(f'Dados/Dados.csv')\n",
    "    \n",
    "    else:\n",
    "        dados = pd.read_csv('Dados/Dados.csv', index_col= 0)\n",
    "        \n",
    "    def seleciona_cat(df, categorias):\n",
    "                del df['subcategoria']\n",
    "                del df['link']\n",
    "                return df[df[\"categoria\"].isin(categorias)]\n",
    "\n",
    "    dados = seleciona_cat(dados, cat)\n",
    "\n",
    "    return dados"
   ]
  },
  {
   "cell_type": "code",
   "execution_count": null,
   "metadata": {},
   "outputs": [],
   "source": [
    "dados = prepara_dados(download=True)\n",
    "dados.head()\n",
    "def calcula_polaridade(frase):\n",
    "    return s.polarity_scores(frase)['compound']\n",
    "\n",
    "s = SentimentIntensityAnalyzer()\n",
    "dados['text_polaridade'] = dados.texto.apply(calcula_polaridade)\n",
    "mean_df = dados.groupby(['data']).mean()\n",
    "del mean_df['Unnamed: 0']\n",
    "mean_df['Variacao'] = (mean_df.Close - mean_df.Close.shift(1))/(mean_df.Close.shift(1))*100\n",
    "mean_df['norm']=(mean_df.Variacao-mean_df.Variacao.min())/(mean_df.Variacao.max()-mean_df.Variacao.min())\n",
    "\n",
    "mead_df.to_csv('Dados/Dados_com_pol')"
   ]
  }
 ],
 "metadata": {
  "kernelspec": {
   "display_name": "Python 3",
   "language": "python",
   "name": "python3"
  },
  "language_info": {
   "codemirror_mode": {
    "name": "ipython",
    "version": 3
   },
   "file_extension": ".py",
   "mimetype": "text/x-python",
   "name": "python",
   "nbconvert_exporter": "python",
   "pygments_lexer": "ipython3",
   "version": "3.8.2"
  }
 },
 "nbformat": 4,
 "nbformat_minor": 4
}
