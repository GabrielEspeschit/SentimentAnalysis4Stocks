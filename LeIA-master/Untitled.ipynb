{
 "cells": [
  {
   "cell_type": "code",
   "execution_count": 2,
   "metadata": {},
   "outputs": [],
   "source": [
    "from leia import SentimentIntensityAnalyzer \n",
    "\n",
    "s = SentimentIntensityAnalyzer()"
   ]
  },
  {
   "cell_type": "code",
   "execution_count": 3,
   "metadata": {},
   "outputs": [
    {
     "data": {
      "text/plain": [
       "{'neg': 0.103, 'neu': 0.83, 'pos': 0.067, 'compound': -0.7543}"
      ]
     },
     "execution_count": 3,
     "metadata": {},
     "output_type": "execute_result"
    }
   ],
   "source": [
    "frase = 'Autoridades da zona do euro estão mais preocupadas com o risco de que o programa de resgate a economia da Grécia, de €172 bilhões, expire no final deste mês.  Isso porque, nos últimos dias, as autoridades do bloco se convenceram de que o governo grego, após reuniões entre as partes, não percebem o risco que o país corre se vier a perder as linhas de crédito do BCE (Banco Central Europeu).  Autoridades da União Europeia ficaram desapontadas na sexta-feira (30), quando Yanis Varoufakis, o novo ministro da economia da Grécia, afirmou que o governo não tem intenção de cooperar com uma missão da \"troica\" de credores formada por FMI, União Europeia e BCE (Banco Central Europeu).  O ministro disse ainda que não solicitaria prorrogação da data-limite de 28 de fevereiro, em sua negociação com os credores. Caso não seja fechada até lá a renovação do programa de resgate, o país vai perder acesso ao crédito do BCE.  O ministro coroou assim a primeira semana tumultuada do governo antiausteridade, de quem os anúncios de reverter cortes de gastos e privatizações enervou os mercados.  Houve algum alívio quando Alexis Tsipras, primeiro-ministro grego da esquerda radical, adotou um tom mais brando no sábado (31), ao dizer que não estava buscando conflitos e tinha esperanças de encontrar um acordo.  Ele também revelou ter procurado Mario Draghi, presidente do BCE, para assegurar sua intenção de chegar a um acordo. Mas a paciência em países credores da Grécia, especialmente na Alemanha, está se esgotando. Martin Schulz, presidente do Parlamento Europeu e social-democrata alemão, instou a Grécia ir com calma em seus repetidos ataques contra Berlim. \"Bater nos alemães pode soar bem por alguns trimestres, mas é uma visão curta que não levará a lugar nenhum, disse ao jornal \"Welt am Sonntag\".  Também no sábado (30), a chanceler da Alemanha, Angela Merkel, alertou Atenas para não esperar mais concessões.  O programa de resgate da Grécia deve expirar no próximo dia 28 e, caso não seja renegociado, o país irá ficar, pela primeira vez em cinco anos, sem um respaldo financeiro da União Europeia.  Como o FMI dificilmente irá disponibilizar recursos sem a participação da União Europeia, o país pode ficar sem acesso a financiamento para pagar bilhões de euros em dívidas nos próximos meses.'\n",
    "# Análise de texto simples\n",
    "s.polarity_scores(frase)\n",
    "#{'neg': 0.0, 'neu': 0.328, 'pos': 0.672, 'compound': 0.6249}"
   ]
  },
  {
   "cell_type": "code",
   "execution_count": null,
   "metadata": {},
   "outputs": [],
   "source": []
  }
 ],
 "metadata": {
  "kernelspec": {
   "display_name": "Python 3",
   "language": "python",
   "name": "python3"
  },
  "language_info": {
   "codemirror_mode": {
    "name": "ipython",
    "version": 3
   },
   "file_extension": ".py",
   "mimetype": "text/x-python",
   "name": "python",
   "nbconvert_exporter": "python",
   "pygments_lexer": "ipython3",
   "version": "3.8.2"
  }
 },
 "nbformat": 4,
 "nbformat_minor": 4
}
